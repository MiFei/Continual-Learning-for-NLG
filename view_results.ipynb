{
 "cells": [
  {
   "cell_type": "code",
   "execution_count": null,
   "metadata": {},
   "outputs": [],
   "source": [
    "import numpy as np\n",
    "import torch \n",
    "import os\n",
    "from collections import Counter, OrderedDict\n",
    "import pandas as pd\n",
    "from IPython.display import display, HTML\n",
    "import numbers\n"
   ]
  },
  {
   "cell_type": "code",
   "execution_count": null,
   "metadata": {},
   "outputs": [],
   "source": [
    "'''\n",
    "Load results of all methods tested for starting task id task_num\n",
    "'''\n",
    "\n",
    "def load_task_results(task_num = 0):\n",
    "\n",
    "    '''\n",
    "    Load results of all methods tested of a task_num\n",
    "    '''\n",
    "    base_folders = './experiments/domain'+str(task_num)+ '/'\n",
    "    raw_records = {}\n",
    "    seed_folders = ['1111/'] # select the seed that you want to check\n",
    "\n",
    "    for seed_folder in seed_folders:\n",
    "\n",
    "        raw_records[seed_folder] = {}\n",
    "        for exp_folder in sorted(os.listdir(base_folders + seed_folder)):\n",
    "            if exp_folder != '.DS_Store' and exp_folder != 'exemplar_distillation_loss_250_backup':\n",
    "                #print (exp_folder)\n",
    "                path = base_folders + seed_folder + exp_folder + '/lm/model/' # replace to '/cvae/modeel/' if you test cvae\n",
    "                raw_records[seed_folder][exp_folder] = []\n",
    "                for file in sorted(os.listdir(path)):\n",
    "\n",
    "                    if file != '.DS_Store':\n",
    "                        ckp = torch.load(path+file,map_location='cpu')\n",
    "                        if 'perf' not in ckp.keys():\n",
    "                            continue\n",
    "                        raw_records[seed_folder][exp_folder].append(ckp['perf'])\n",
    "                        \n",
    "        \n",
    "    return raw_records # [seed][method]"
   ]
  },
  {
   "cell_type": "code",
   "execution_count": null,
   "metadata": {},
   "outputs": [],
   "source": [
    "def tabulate_results_all(records, first=0):\n",
    "    '''\n",
    "    tabulate results for omega_all, omega_first\n",
    "    (the first domain: 0) replace to the first of {task_seq} in c{onfig} if you use other order\n",
    "    '''\n",
    "    \n",
    "    formated_results = []\n",
    "    all_results = {}\n",
    "    for seed, results in records.items():\n",
    "        for method, perf in results.items():\n",
    "            #print(method)\n",
    "            if len(perf) < 6:\n",
    "                continue\n",
    "\n",
    "            result = []\n",
    "            for run in perf:\n",
    "                # all\n",
    "                result.append(run['cul_se'])\n",
    "                result.append(run['cul_bleu'][3])\n",
    "                # base \n",
    "                result.append(run['se'][first])\n",
    "                #print(run['bleu'][first][3])\n",
    "                result.append(run['bleu'][first][3])              \n",
    "\n",
    "            result = np.asarray(result).reshape(6,4).T.mean(1)\n",
    "            \n",
    "            if method in all_results.keys():\n",
    "                all_results[method] += [result]\n",
    "            else:\n",
    "                all_results[method] = [result]\n",
    "    \n",
    "    for method, result in all_results.items():\n",
    "        result = np.array(result)\n",
    "        mean_result = list(result.mean(axis=0))\n",
    "    \n",
    "        formated_results.append( [method] + mean_result )\n",
    "\n",
    "    headers = ['Methods', 'ALL SER', 'ALL BLEU', 'First SER','First BLEU']\n",
    "    \n",
    "    return formated_results, headers"
   ]
  },
  {
   "cell_type": "code",
   "execution_count": null,
   "metadata": {},
   "outputs": [],
   "source": [
    "'''\n",
    "to check overall results for a starting order\n",
    "'''\n",
    "task = 0  # starting task id\n",
    "raw_records = load_task_results(task)\n",
    "results, headers = tabulate_results_all(raw_records, task)\n",
    "dataframe = pd.DataFrame(results, columns=headers)\n",
    "display(HTML(dataframe.to_html()))"
   ]
  }
 ],
 "metadata": {
  "kernelspec": {
   "display_name": "Python 3",
   "language": "python",
   "name": "python3"
  },
  "language_info": {
   "codemirror_mode": {
    "name": "ipython",
    "version": 3
   },
   "file_extension": ".py",
   "mimetype": "text/x-python",
   "name": "python",
   "nbconvert_exporter": "python",
   "pygments_lexer": "ipython3",
   "version": "3.6.3"
  }
 },
 "nbformat": 4,
 "nbformat_minor": 2
}
